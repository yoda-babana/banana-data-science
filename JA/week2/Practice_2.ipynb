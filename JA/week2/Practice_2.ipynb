{
 "cells": [
  {
   "cell_type": "markdown",
   "metadata": {},
   "source": [
    "# Getting Started with pandas"
   ]
  },
  {
   "cell_type": "markdown",
   "metadata": {},
   "source": [
    "## 1. Introduction to Python Libraries "
   ]
  },
  {
   "cell_type": "markdown",
   "metadata": {},
   "source": [
    "#### PANDAS (PANel DAta) \n",
    "### 1.1. INSTALLING Pandas"
   ]
  },
  {
   "cell_type": "markdown",
   "metadata": {},
   "source": [
    "pip install pandas"
   ]
  },
  {
   "cell_type": "markdown",
   "metadata": {},
   "source": [
    "#### 1.2. DATA STRUCTURES "
   ]
  },
  {
   "cell_type": "markdown",
   "metadata": {},
   "source": [
    "* Series; \n",
    "* DataFrame."
   ]
  },
  {
   "cell_type": "markdown",
   "metadata": {},
   "source": [
    "## 2. Series "
   ]
  },
  {
   "cell_type": "markdown",
   "metadata": {},
   "source": [
    "### 2.1. Creation of Series "
   ]
  },
  {
   "cell_type": "markdown",
   "metadata": {},
   "source": [
    "A) _Creation of Series from Scalar Values_ "
   ]
  },
  {
   "cell_type": "code",
   "execution_count": 1,
   "metadata": {},
   "outputs": [
    {
     "name": "stdout",
     "output_type": "stream",
     "text": [
      "0    1\n",
      "1    2\n",
      "2    3\n",
      "dtype: int64\n"
     ]
    }
   ],
   "source": [
    "import pandas as pd # import Pandas with alias pd \n",
    "series1 = pd.Series([1,2,3]) # create a series\n",
    "print(series1)"
   ]
  },
  {
   "cell_type": "code",
   "execution_count": 2,
   "metadata": {},
   "outputs": [
    {
     "name": "stdout",
     "output_type": "stream",
     "text": [
      "101    Adam\n",
      "102     Ben\n",
      "103     Cat\n",
      "dtype: object\n"
     ]
    }
   ],
   "source": [
    "series2 = pd.Series(['Adam','Ben','Cat'],index = [101,102,103])\n",
    "print(series2)"
   ]
  },
  {
   "cell_type": "code",
   "execution_count": 3,
   "metadata": {},
   "outputs": [
    {
     "name": "stdout",
     "output_type": "stream",
     "text": [
      "Feb    2\n",
      "Mar    3\n",
      "Apr    4\n",
      "dtype: int64\n"
     ]
    }
   ],
   "source": [
    "series2 = pd.Series([2,3,4],index=[\"Feb\",\"Mar\",\"Apr\"])\n",
    "print(series2)"
   ]
  },
  {
   "cell_type": "markdown",
   "metadata": {},
   "source": [
    "B) _Creation of Series from Numpy Arrays_ "
   ]
  },
  {
   "cell_type": "code",
   "execution_count": 4,
   "metadata": {},
   "outputs": [
    {
     "name": "stdout",
     "output_type": "stream",
     "text": [
      "0    1\n",
      "1    2\n",
      "2    3\n",
      "3    4\n",
      "4    5\n",
      "dtype: int32\n"
     ]
    }
   ],
   "source": [
    "import numpy as np \n",
    "import pandas as pd \n",
    "array1=np.array([1,2,3,4,5])\n",
    "series3 = pd.Series(array1)\n",
    "print(series3)"
   ]
  },
  {
   "cell_type": "code",
   "execution_count": 5,
   "metadata": {},
   "outputs": [
    {
     "name": "stdout",
     "output_type": "stream",
     "text": [
      "Jan    1\n",
      "Feb    2\n",
      "Mar    3\n",
      "Apr    4\n",
      "May    5\n",
      "dtype: int32\n"
     ]
    }
   ],
   "source": [
    "series4 = pd.Series(array1, index = [\"Jan\",\"Feb\", \"Mar\", \"Apr\",\"May\"])\n",
    "print(series4)"
   ]
  },
  {
   "cell_type": "markdown",
   "metadata": {},
   "source": [
    "C) _Creation of Series from Dictionary_"
   ]
  },
  {
   "cell_type": "code",
   "execution_count": 10,
   "metadata": {},
   "outputs": [
    {
     "name": "stdout",
     "output_type": "stream",
     "text": [
      "{'Kazakhstan': 'Astana', 'UK': 'London', 'Japan': 'Tokyo'}\n"
     ]
    }
   ],
   "source": [
    "dict1 = {'Kazakhstan': 'Astana', 'UK':'London', 'Japan': 'Tokyo'}\n",
    "print(dict1)"
   ]
  },
  {
   "cell_type": "code",
   "execution_count": 11,
   "metadata": {},
   "outputs": [
    {
     "name": "stdout",
     "output_type": "stream",
     "text": [
      "Kazakhstan    Astana\n",
      "UK            London\n",
      "Japan          Tokyo\n",
      "dtype: object\n"
     ]
    }
   ],
   "source": [
    "series6 = pd.Series(dict1)\n",
    "print(series6)"
   ]
  },
  {
   "cell_type": "markdown",
   "metadata": {},
   "source": [
    "### 2.2. Accessing Elements of a Series "
   ]
  },
  {
   "cell_type": "markdown",
   "metadata": {},
   "source": [
    "A) _Indexing_"
   ]
  },
  {
   "cell_type": "code",
   "execution_count": 12,
   "metadata": {},
   "outputs": [
    {
     "data": {
      "text/plain": [
       "3"
      ]
     },
     "execution_count": 12,
     "metadata": {},
     "output_type": "execute_result"
    }
   ],
   "source": [
    "series7 = pd.Series([1,2,3,4])\n",
    "series7[2]"
   ]
  },
  {
   "cell_type": "code",
   "execution_count": 13,
   "metadata": {},
   "outputs": [
    {
     "data": {
      "text/plain": [
       "3"
      ]
     },
     "execution_count": 13,
     "metadata": {},
     "output_type": "execute_result"
    }
   ],
   "source": [
    "seriesMnths = pd.Series([2,3,4],index=[\"Feb\",\"Mar\",\"Apr\"])\n",
    "seriesMnths[\"Mar\"]"
   ]
  },
  {
   "cell_type": "code",
   "execution_count": 14,
   "metadata": {},
   "outputs": [],
   "source": [
    "seriesCapCntry = pd.Series(['Tokyo','WashingtonDC', 'London', 'Paris'],\n",
    "index=['Japan', 'USA', 'UK', 'France'])"
   ]
  },
  {
   "cell_type": "code",
   "execution_count": 15,
   "metadata": {},
   "outputs": [
    {
     "data": {
      "text/plain": [
       "'Paris'"
      ]
     },
     "execution_count": 15,
     "metadata": {},
     "output_type": "execute_result"
    }
   ],
   "source": [
    "seriesCapCntry['France']"
   ]
  },
  {
   "cell_type": "code",
   "execution_count": 16,
   "metadata": {},
   "outputs": [
    {
     "data": {
      "text/plain": [
       "'WashingtonDC'"
      ]
     },
     "execution_count": 16,
     "metadata": {},
     "output_type": "execute_result"
    }
   ],
   "source": [
    "seriesCapCntry[1]"
   ]
  },
  {
   "cell_type": "code",
   "execution_count": 17,
   "metadata": {},
   "outputs": [
    {
     "data": {
      "text/plain": [
       "France     Paris\n",
       "UK        London\n",
       "dtype: object"
      ]
     },
     "execution_count": 17,
     "metadata": {},
     "output_type": "execute_result"
    }
   ],
   "source": [
    "seriesCapCntry[[3,2]]"
   ]
  },
  {
   "cell_type": "code",
   "execution_count": 18,
   "metadata": {},
   "outputs": [
    {
     "data": {
      "text/plain": [
       "UK           London\n",
       "USA    WashingtonDC\n",
       "dtype: object"
      ]
     },
     "execution_count": 18,
     "metadata": {},
     "output_type": "execute_result"
    }
   ],
   "source": [
    "seriesCapCntry[['UK','USA']]"
   ]
  },
  {
   "cell_type": "code",
   "execution_count": 19,
   "metadata": {},
   "outputs": [
    {
     "data": {
      "text/plain": [
       "10           Tokyo\n",
       "20    WashingtonDC\n",
       "30          London\n",
       "40           Paris\n",
       "dtype: object"
      ]
     },
     "execution_count": 19,
     "metadata": {},
     "output_type": "execute_result"
    }
   ],
   "source": [
    "seriesCapCntry.index=[10,20,30,40] #index altering\n",
    "seriesCapCntry"
   ]
  },
  {
   "cell_type": "markdown",
   "metadata": {},
   "source": [
    "B) _Slicing_"
   ]
  },
  {
   "cell_type": "code",
   "execution_count": 20,
   "metadata": {},
   "outputs": [
    {
     "data": {
      "text/plain": [
       "USA    WashingtonDC\n",
       "UK           London\n",
       "dtype: object"
      ]
     },
     "execution_count": 20,
     "metadata": {},
     "output_type": "execute_result"
    }
   ],
   "source": [
    "seriesCapCntry = pd.Series(['Tokyo', 'WashingtonDC', 'London','Paris'], index=['Japan', 'USA', 'UK', 'France'])\n",
    "seriesCapCntry[1:3]"
   ]
  },
  {
   "cell_type": "code",
   "execution_count": 21,
   "metadata": {},
   "outputs": [
    {
     "data": {
      "text/plain": [
       "USA       WashingtonDC\n",
       "UK              London\n",
       "France           Paris\n",
       "dtype: object"
      ]
     },
     "execution_count": 21,
     "metadata": {},
     "output_type": "execute_result"
    }
   ],
   "source": [
    "seriesCapCntry['USA' : 'France']"
   ]
  },
  {
   "cell_type": "code",
   "execution_count": 22,
   "metadata": {},
   "outputs": [
    {
     "data": {
      "text/plain": [
       "France           Paris\n",
       "UK              London\n",
       "USA       WashingtonDC\n",
       "Japan            Tokyo\n",
       "dtype: object"
      ]
     },
     "execution_count": 22,
     "metadata": {},
     "output_type": "execute_result"
    }
   ],
   "source": [
    "seriesCapCntry[ : : -1] # reverse order of series"
   ]
  },
  {
   "cell_type": "markdown",
   "metadata": {},
   "source": [
    "_modification_"
   ]
  },
  {
   "cell_type": "code",
   "execution_count": 23,
   "metadata": {},
   "outputs": [
    {
     "data": {
      "text/plain": [
       "a    10\n",
       "b    11\n",
       "c    12\n",
       "d    13\n",
       "e    14\n",
       "f    15\n",
       "dtype: int32"
      ]
     },
     "execution_count": 23,
     "metadata": {},
     "output_type": "execute_result"
    }
   ],
   "source": [
    "import numpy as np\n",
    "seriesAlph = pd.Series(np.arange(10,16,1),index = ['a', 'b', 'c', 'd', 'e', 'f'])\n",
    "seriesAlph"
   ]
  },
  {
   "cell_type": "code",
   "execution_count": 24,
   "metadata": {},
   "outputs": [
    {
     "data": {
      "text/plain": [
       "a    10\n",
       "b    50\n",
       "c    50\n",
       "d    13\n",
       "e    14\n",
       "f    15\n",
       "dtype: int32"
      ]
     },
     "execution_count": 24,
     "metadata": {},
     "output_type": "execute_result"
    }
   ],
   "source": [
    "seriesAlph[1:3] = 50\n",
    "seriesAlph"
   ]
  },
  {
   "cell_type": "code",
   "execution_count": 25,
   "metadata": {},
   "outputs": [
    {
     "data": {
      "text/plain": [
       "a     10\n",
       "b     50\n",
       "c    500\n",
       "d    500\n",
       "e    500\n",
       "f     15\n",
       "dtype: int32"
      ]
     },
     "execution_count": 25,
     "metadata": {},
     "output_type": "execute_result"
    }
   ],
   "source": [
    "seriesAlph['c':'e'] = 500\n",
    "seriesAlph"
   ]
  },
  {
   "cell_type": "markdown",
   "metadata": {},
   "source": [
    "### 2.3. Attributes of Series "
   ]
  },
  {
   "cell_type": "code",
   "execution_count": 26,
   "metadata": {},
   "outputs": [
    {
     "data": {
      "text/plain": [
       "Japan            Tokyo\n",
       "USA       WashingtonDC\n",
       "UK              London\n",
       "France           Paris\n",
       "dtype: object"
      ]
     },
     "execution_count": 26,
     "metadata": {},
     "output_type": "execute_result"
    }
   ],
   "source": [
    "seriesCapCntry"
   ]
  },
  {
   "cell_type": "markdown",
   "metadata": {},
   "source": [
    "1) _name_ "
   ]
  },
  {
   "cell_type": "code",
   "execution_count": 27,
   "metadata": {},
   "outputs": [
    {
     "name": "stdout",
     "output_type": "stream",
     "text": [
      "Japan            Tokyo\n",
      "USA       WashingtonDC\n",
      "UK              London\n",
      "France           Paris\n",
      "Name: Capitals, dtype: object\n"
     ]
    }
   ],
   "source": [
    "seriesCapCntry.name = 'Capitals'\n",
    "print(seriesCapCntry)\n"
   ]
  },
  {
   "cell_type": "markdown",
   "metadata": {},
   "source": [
    "2) _index.name_"
   ]
  },
  {
   "cell_type": "code",
   "execution_count": 28,
   "metadata": {},
   "outputs": [
    {
     "name": "stdout",
     "output_type": "stream",
     "text": [
      "Countries\n",
      "Japan            Tokyo\n",
      "USA       WashingtonDC\n",
      "UK              London\n",
      "France           Paris\n",
      "Name: Capitals, dtype: object\n"
     ]
    }
   ],
   "source": [
    "seriesCapCntry.index.name ='Countries'\n",
    "print(seriesCapCntry)"
   ]
  },
  {
   "cell_type": "markdown",
   "metadata": {},
   "source": [
    "3) _values_"
   ]
  },
  {
   "cell_type": "code",
   "execution_count": 29,
   "metadata": {},
   "outputs": [
    {
     "name": "stdout",
     "output_type": "stream",
     "text": [
      "['Tokyo' 'WashingtonDC' 'London' 'Paris']\n"
     ]
    }
   ],
   "source": [
    "print(seriesCapCntry.values)"
   ]
  },
  {
   "cell_type": "markdown",
   "metadata": {},
   "source": [
    "4) _size_"
   ]
  },
  {
   "cell_type": "code",
   "execution_count": 30,
   "metadata": {},
   "outputs": [
    {
     "name": "stdout",
     "output_type": "stream",
     "text": [
      "4\n"
     ]
    }
   ],
   "source": [
    "print(seriesCapCntry.size)"
   ]
  },
  {
   "cell_type": "markdown",
   "metadata": {},
   "source": [
    "5) _empty_ "
   ]
  },
  {
   "cell_type": "code",
   "execution_count": 31,
   "metadata": {},
   "outputs": [
    {
     "data": {
      "text/plain": [
       "False"
      ]
     },
     "execution_count": 31,
     "metadata": {},
     "output_type": "execute_result"
    }
   ],
   "source": [
    "seriesCapCntry.empty"
   ]
  },
  {
   "cell_type": "code",
   "execution_count": 32,
   "metadata": {},
   "outputs": [
    {
     "data": {
      "text/plain": [
       "True"
      ]
     },
     "execution_count": 32,
     "metadata": {},
     "output_type": "execute_result"
    }
   ],
   "source": [
    "# Create an empty series\n",
    "seriesEmpt=pd.Series()\n",
    "seriesEmpt.empty"
   ]
  },
  {
   "cell_type": "markdown",
   "metadata": {},
   "source": [
    "### 2.4. Methods of Series "
   ]
  },
  {
   "cell_type": "code",
   "execution_count": 33,
   "metadata": {},
   "outputs": [
    {
     "name": "stdout",
     "output_type": "stream",
     "text": [
      "0    10\n",
      "1    11\n",
      "2    12\n",
      "3    13\n",
      "4    14\n",
      "5    15\n",
      "6    16\n",
      "7    17\n",
      "8    18\n",
      "9    19\n",
      "dtype: int32\n"
     ]
    }
   ],
   "source": [
    "seriesTenTwenty=pd.Series(np.arange(10,20,1))\n",
    "print(seriesTenTwenty)"
   ]
  },
  {
   "cell_type": "markdown",
   "metadata": {},
   "source": [
    "1) _head(_ n _)_"
   ]
  },
  {
   "cell_type": "code",
   "execution_count": 34,
   "metadata": {},
   "outputs": [
    {
     "data": {
      "text/plain": [
       "0    10\n",
       "1    11\n",
       "dtype: int32"
      ]
     },
     "execution_count": 34,
     "metadata": {},
     "output_type": "execute_result"
    }
   ],
   "source": [
    "seriesTenTwenty.head(2)"
   ]
  },
  {
   "cell_type": "code",
   "execution_count": 35,
   "metadata": {},
   "outputs": [
    {
     "data": {
      "text/plain": [
       "0    10\n",
       "1    11\n",
       "2    12\n",
       "3    13\n",
       "4    14\n",
       "dtype: int32"
      ]
     },
     "execution_count": 35,
     "metadata": {},
     "output_type": "execute_result"
    }
   ],
   "source": [
    "seriesTenTwenty.head()"
   ]
  },
  {
   "cell_type": "markdown",
   "metadata": {},
   "source": [
    "2) _count()_"
   ]
  },
  {
   "cell_type": "code",
   "execution_count": 36,
   "metadata": {},
   "outputs": [
    {
     "data": {
      "text/plain": [
       "10"
      ]
     },
     "execution_count": 36,
     "metadata": {},
     "output_type": "execute_result"
    }
   ],
   "source": [
    "seriesTenTwenty.count()"
   ]
  },
  {
   "cell_type": "markdown",
   "metadata": {},
   "source": [
    "3) _tail(_ n _)_"
   ]
  },
  {
   "cell_type": "code",
   "execution_count": 37,
   "metadata": {},
   "outputs": [
    {
     "data": {
      "text/plain": [
       "8    18\n",
       "9    19\n",
       "dtype: int32"
      ]
     },
     "execution_count": 37,
     "metadata": {},
     "output_type": "execute_result"
    }
   ],
   "source": [
    "seriesTenTwenty.tail(2)"
   ]
  },
  {
   "cell_type": "code",
   "execution_count": 38,
   "metadata": {},
   "outputs": [
    {
     "data": {
      "text/plain": [
       "5    15\n",
       "6    16\n",
       "7    17\n",
       "8    18\n",
       "9    19\n",
       "dtype: int32"
      ]
     },
     "execution_count": 38,
     "metadata": {},
     "output_type": "execute_result"
    }
   ],
   "source": [
    "seriesTenTwenty.tail()"
   ]
  },
  {
   "cell_type": "markdown",
   "metadata": {},
   "source": [
    "### 2.5. Mathematical Operations on Series "
   ]
  },
  {
   "cell_type": "code",
   "execution_count": 39,
   "metadata": {},
   "outputs": [],
   "source": [
    "seriesA = pd.Series([1,2,3,4,5], index =['a', 'b', 'c', 'd', 'e'])"
   ]
  },
  {
   "cell_type": "code",
   "execution_count": 40,
   "metadata": {},
   "outputs": [
    {
     "data": {
      "text/plain": [
       "a    1\n",
       "b    2\n",
       "c    3\n",
       "d    4\n",
       "e    5\n",
       "dtype: int64"
      ]
     },
     "execution_count": 40,
     "metadata": {},
     "output_type": "execute_result"
    }
   ],
   "source": [
    "seriesA"
   ]
  },
  {
   "cell_type": "code",
   "execution_count": 41,
   "metadata": {},
   "outputs": [],
   "source": [
    "seriesB = pd.Series([10,20,-10,-50,100],index = ['z', 'y', 'a', 'c', 'e'])"
   ]
  },
  {
   "cell_type": "code",
   "execution_count": 42,
   "metadata": {},
   "outputs": [
    {
     "data": {
      "text/plain": [
       "z     10\n",
       "y     20\n",
       "a    -10\n",
       "c    -50\n",
       "e    100\n",
       "dtype: int64"
      ]
     },
     "execution_count": 42,
     "metadata": {},
     "output_type": "execute_result"
    }
   ],
   "source": [
    "seriesB"
   ]
  },
  {
   "cell_type": "markdown",
   "metadata": {},
   "source": [
    "A) _Addtion of two Series_"
   ]
  },
  {
   "cell_type": "code",
   "execution_count": 43,
   "metadata": {},
   "outputs": [
    {
     "data": {
      "text/plain": [
       "a     -9.0\n",
       "b      NaN\n",
       "c    -47.0\n",
       "d      NaN\n",
       "e    105.0\n",
       "y      NaN\n",
       "z      NaN\n",
       "dtype: float64"
      ]
     },
     "execution_count": 43,
     "metadata": {},
     "output_type": "execute_result"
    }
   ],
   "source": [
    "seriesA + seriesB"
   ]
  },
  {
   "attachments": {
    "image.png": {
     "image/png": "[encoded data removed]"
    }
   },
   "cell_type": "markdown",
   "metadata": {},
   "source": [
    "![image.png](attachment:image.png)"
   ]
  },
  {
   "cell_type": "code",
   "execution_count": 44,
   "metadata": {},
   "outputs": [
    {
     "data": {
      "text/plain": [
       "a     -9.0\n",
       "b      2.0\n",
       "c    -47.0\n",
       "d      4.0\n",
       "e    105.0\n",
       "y     20.0\n",
       "z     10.0\n",
       "dtype: float64"
      ]
     },
     "execution_count": 44,
     "metadata": {},
     "output_type": "execute_result"
    }
   ],
   "source": [
    "seriesA.add(seriesB, fill_value=0)"
   ]
  },
  {
   "attachments": {
    "image.png": {
     "image/png": "[encoded data removed]"
    }
   },
   "cell_type": "markdown",
   "metadata": {},
   "source": [
    "![image.png](attachment:image.png)"
   ]
  },
  {
   "cell_type": "markdown",
   "metadata": {},
   "source": [
    "B) _Substraction of two Series_ "
   ]
  },
  {
   "cell_type": "code",
   "execution_count": 45,
   "metadata": {},
   "outputs": [
    {
     "data": {
      "text/plain": [
       "a    11.0\n",
       "b     NaN\n",
       "c    53.0\n",
       "d     NaN\n",
       "e   -95.0\n",
       "y     NaN\n",
       "z     NaN\n",
       "dtype: float64"
      ]
     },
     "execution_count": 45,
     "metadata": {},
     "output_type": "execute_result"
    }
   ],
   "source": [
    "seriesA - seriesB"
   ]
  },
  {
   "cell_type": "code",
   "execution_count": 46,
   "metadata": {},
   "outputs": [
    {
     "data": {
      "text/plain": [
       "a     11.0\n",
       "b   -998.0\n",
       "c     53.0\n",
       "d   -996.0\n",
       "e    -95.0\n",
       "y    980.0\n",
       "z    990.0\n",
       "dtype: float64"
      ]
     },
     "execution_count": 46,
     "metadata": {},
     "output_type": "execute_result"
    }
   ],
   "source": [
    "seriesA.sub(seriesB, fill_value=1000)"
   ]
  },
  {
   "cell_type": "markdown",
   "metadata": {},
   "source": [
    "C) _Multiplication of two Series_"
   ]
  },
  {
   "cell_type": "code",
   "execution_count": 47,
   "metadata": {},
   "outputs": [
    {
     "data": {
      "text/plain": [
       "a    -10.0\n",
       "b      NaN\n",
       "c   -150.0\n",
       "d      NaN\n",
       "e    500.0\n",
       "y      NaN\n",
       "z      NaN\n",
       "dtype: float64"
      ]
     },
     "execution_count": 47,
     "metadata": {},
     "output_type": "execute_result"
    }
   ],
   "source": [
    "seriesA * seriesB"
   ]
  },
  {
   "cell_type": "code",
   "execution_count": 48,
   "metadata": {},
   "outputs": [
    {
     "data": {
      "text/plain": [
       "a    -10.0\n",
       "b      0.0\n",
       "c   -150.0\n",
       "d      0.0\n",
       "e    500.0\n",
       "y      0.0\n",
       "z      0.0\n",
       "dtype: float64"
      ]
     },
     "execution_count": 48,
     "metadata": {},
     "output_type": "execute_result"
    }
   ],
   "source": [
    "seriesA.mul(seriesB, fill_value=0)"
   ]
  },
  {
   "cell_type": "markdown",
   "metadata": {},
   "source": [
    "D) _Division of two Series_"
   ]
  },
  {
   "cell_type": "code",
   "execution_count": 49,
   "metadata": {},
   "outputs": [
    {
     "data": {
      "text/plain": [
       "a   -0.10\n",
       "b     NaN\n",
       "c   -0.06\n",
       "d     NaN\n",
       "e    0.05\n",
       "y     NaN\n",
       "z     NaN\n",
       "dtype: float64"
      ]
     },
     "execution_count": 49,
     "metadata": {},
     "output_type": "execute_result"
    }
   ],
   "source": [
    "seriesA/seriesB"
   ]
  },
  {
   "cell_type": "code",
   "execution_count": 50,
   "metadata": {},
   "outputs": [
    {
     "data": {
      "text/plain": [
       "a   -0.10\n",
       "b     inf\n",
       "c   -0.06\n",
       "d     inf\n",
       "e    0.05\n",
       "y    0.00\n",
       "z    0.00\n",
       "dtype: float64"
      ]
     },
     "execution_count": 50,
     "metadata": {},
     "output_type": "execute_result"
    }
   ],
   "source": [
    "seriesA.div(seriesB, fill_value=0)"
   ]
  },
  {
   "cell_type": "markdown",
   "metadata": {},
   "source": [
    "# EXERCISES: "
   ]
  },
  {
   "cell_type": "markdown",
   "metadata": {},
   "source": [
    "## 1. Create the following Series and do the specified operations:\n",
    "a) EngAlph, having 26 elements with the alphabets\n",
    "as values and default index values.\n",
    "\n",
    "b) Vowels, having 5 elements with index labels ‘a’,\n",
    "‘e’, ‘i’, ‘o’ and ‘u’ and all the five values set to zero.\n",
    "Check if it is an empty series.\n",
    "\n",
    "c) Friends, from a dictionary having roll numbers of\n",
    "five of your friends as data and their first name\n",
    "as keys.\n",
    "\n",
    "d) MTseries, an empty Series. Check if it is an empty\n",
    "series.\n",
    "\n",
    "MTseries. empty\n",
    "\n",
    "e) MonthDays, from a numpy array having the\n",
    "number of days in the 12 months of a year. The\n",
    "labels should be the month numbers from 1 to 12."
   ]
  },
  {
   "cell_type": "markdown",
   "metadata": {},
   "source": [
    "## 2.  Using the Series created in Ex. 1, write commands for the following:\n",
    "a) Set all the values of Vowels to 10 and display the\n",
    "Series.\n",
    "\n",
    "b) Divide all values of Vowels by 2 and display the\n",
    "Series.\n",
    "\n",
    "Vowels/2\n",
    "\n",
    "c) Create another series Vowels1 having 5 elements\n",
    "with index labels ‘a’, ‘e’, ‘i’, ‘o’ and ‘u’ having values [2,5,6,3,8] respectively.\n",
    "\n",
    "d) Add Vowels and Vowels1 and assign the result to\n",
    "Vowels3.\n",
    "Vowels3 = Vowels+Vowels1\n",
    "\n",
    "e) Subtract, Multiply and Divide Vowels by Vowels1.\n",
    "\n",
    "f) Alter the labels of Vowels1 to [‘A’, ‘E’, ‘I’, ‘O’, ‘U’]."
   ]
  },
  {
   "cell_type": "markdown",
   "metadata": {},
   "source": [
    "## 3.Using the Series created in Ex. 1 , write commands for the following: \n",
    "a) Find the dimensions, size and values of the Series\n",
    "EngAlph, Vowels, Friends, MTseries, MonthDays.\n",
    "\n",
    "b) Rename the Series MTseries as SeriesEmpty.\n",
    "\n",
    "c) Name the index of the Series MonthDays as\n",
    "monthno and that of Series Friends as Fname.\n",
    "\n",
    "d) Display the 3rd and 2nd value of the Series\n",
    "Friends, in that order.\n",
    "\n",
    "e) Display the alphabets ‘e’ to ‘p’ from the Series\n",
    "EngAlph.\n",
    "\n",
    "f) Display the first 10 values in the Series EngAlph.\n",
    "\n",
    "g) Display the last 10 values in the Series EngAlph.\n",
    "\n",
    "h) Display the MTseries."
   ]
  },
  {
   "cell_type": "code",
   "execution_count": 43,
   "metadata": {},
   "outputs": [
    {
     "data": {
      "text/plain": [
       "0     a\n",
       "1     b\n",
       "2     c\n",
       "3     d\n",
       "4     e\n",
       "5     f\n",
       "6     g\n",
       "7     h\n",
       "8     i\n",
       "9     j\n",
       "10    k\n",
       "11    l\n",
       "12    m\n",
       "13    n\n",
       "14    o\n",
       "15    p\n",
       "16    q\n",
       "17    r\n",
       "18    s\n",
       "19    t\n",
       "20    u\n",
       "21    v\n",
       "22    w\n",
       "23    x\n",
       "24    y\n",
       "25    z\n",
       "dtype: object"
      ]
     },
     "execution_count": 43,
     "metadata": {},
     "output_type": "execute_result"
    }
   ],
   "source": [
    "# 1. Create the following Series and do the specified operations:\n",
    "\n",
    "# a) EngAlph, having 26 elements with the alphabets as values and default index values.\n",
    "import pandas as pd\n",
    "import numpy as np\n",
    "\n",
    "EngAlph = pd.Series(list('abcdefghijklmnopqrstuvwxyz'))\n",
    "\n",
    "EngAlph"
   ]
  },
  {
   "cell_type": "code",
   "execution_count": 44,
   "metadata": {},
   "outputs": [
    {
     "data": {
      "text/plain": [
       "(a    0\n",
       " e    0\n",
       " i    0\n",
       " o    0\n",
       " u    0\n",
       " dtype: int64,\n",
       " False)"
      ]
     },
     "execution_count": 44,
     "metadata": {},
     "output_type": "execute_result"
    }
   ],
   "source": [
    "# b) Vowels, having 5 elements with index labels ‘a’, ‘e’, ‘i’, ‘o’ and ‘u’ and all the five values set to zero. \n",
    "# Check if it is an empty series.\n",
    "\n",
    "Vowels = pd.Series(0, index=['a', 'e', 'i', 'o', 'u'])\n",
    "\n",
    "is_empty = Vowels.empty\n",
    "\n",
    "Vowels, is_empty  "
   ]
  },
  {
   "cell_type": "code",
   "execution_count": 45,
   "metadata": {},
   "outputs": [
    {
     "data": {
      "text/plain": [
       "Kevin      1\n",
       "Stephen    2\n",
       "Lebron     3\n",
       "Roxana     4\n",
       "Winlock    5\n",
       "dtype: int64"
      ]
     },
     "execution_count": 45,
     "metadata": {},
     "output_type": "execute_result"
    }
   ],
   "source": [
    "# c) Friends, from a dictionary having roll numbers of \n",
    "# five of your friends as data and their first name as keys.\n",
    "\n",
    "friends_data = {\n",
    "    'Kevin': 1,\n",
    "    'Stephen': 2,\n",
    "    'Lebron': 3,\n",
    "    'Roxana': 4,\n",
    "    'Winlock': 5\n",
    "}\n",
    "\n",
    "Friends = pd.Series(friends_data)\n",
    "Friends\n"
   ]
  },
  {
   "cell_type": "code",
   "execution_count": 46,
   "metadata": {},
   "outputs": [
    {
     "data": {
      "text/plain": [
       "True"
      ]
     },
     "execution_count": 46,
     "metadata": {},
     "output_type": "execute_result"
    }
   ],
   "source": [
    "# d) MTseries, an empty Series. Check if it is an empty series.\n",
    "MTseries = pd.Series(dtype='float64')\n",
    "\n",
    "is_MTseries_empty = MTseries.empty\n",
    "\n",
    "MTseries, \n",
    "is_MTseries_empty"
   ]
  },
  {
   "cell_type": "code",
   "execution_count": 47,
   "metadata": {},
   "outputs": [
    {
     "data": {
      "text/plain": [
       "1     31\n",
       "2     28\n",
       "3     31\n",
       "4     30\n",
       "5     31\n",
       "6     30\n",
       "7     31\n",
       "8     31\n",
       "9     30\n",
       "10    31\n",
       "11    30\n",
       "12    31\n",
       "dtype: int64"
      ]
     },
     "execution_count": 47,
     "metadata": {},
     "output_type": "execute_result"
    }
   ],
   "source": [
    "# e) MonthDays, from a numpy array having the number of days in the 12 months of a year. \n",
    "# The labels should be the month numbers from 1 to 12.\n",
    "\n",
    "days_in_months = np.array([31, 28, 31, 30, 31, 30, 31, 31, 30, 31, 30, 31])\n",
    "\n",
    "# 13 не включительно.\n",
    "MonthDays = pd.Series(days_in_months, index=np.arange(1, 13))\n",
    "MonthDays"
   ]
  },
  {
   "cell_type": "code",
   "execution_count": 48,
   "metadata": {},
   "outputs": [
    {
     "data": {
      "text/plain": [
       "a    10\n",
       "e    10\n",
       "i    10\n",
       "o    10\n",
       "u    10\n",
       "dtype: int64"
      ]
     },
     "execution_count": 48,
     "metadata": {},
     "output_type": "execute_result"
    }
   ],
   "source": [
    "# 2. Using the Series created in Ex. 1, write commands for the following:\n",
    "\n",
    "# a) Set all the values of Vowels to 10 and display the Series.\n",
    "\n",
    "Vowels = Vowels.apply(lambda x: 10)\n",
    "Vowels"
   ]
  },
  {
   "cell_type": "code",
   "execution_count": 49,
   "metadata": {},
   "outputs": [
    {
     "data": {
      "text/plain": [
       "a    5.0\n",
       "e    5.0\n",
       "i    5.0\n",
       "o    5.0\n",
       "u    5.0\n",
       "dtype: float64"
      ]
     },
     "execution_count": 49,
     "metadata": {},
     "output_type": "execute_result"
    }
   ],
   "source": [
    "# b) Divide all values of Vowels by 2 and display the Series.\n",
    "# Vowels/2\n",
    "\n",
    "Vowels_divided = Vowels / 2\n",
    "Vowels_divided "
   ]
  },
  {
   "cell_type": "code",
   "execution_count": 50,
   "metadata": {},
   "outputs": [
    {
     "data": {
      "text/plain": [
       "a    2\n",
       "e    5\n",
       "i    6\n",
       "o    3\n",
       "u    8\n",
       "dtype: int64"
      ]
     },
     "execution_count": 50,
     "metadata": {},
     "output_type": "execute_result"
    }
   ],
   "source": [
    "# d) Add Vowels and Vowels1 and assign the result to Vowels3. \n",
    "# Vowels3 = Vowels+Vowels1\n",
    "\n",
    "Vowels1 = pd.Series([2, 5, 6, 3, 8], index=['a', 'e', 'i', 'o', 'u'])\n",
    "Vowels1"
   ]
  },
  {
   "cell_type": "code",
   "execution_count": 51,
   "metadata": {},
   "outputs": [
    {
     "data": {
      "text/plain": [
       "(a    8\n",
       " e    5\n",
       " i    4\n",
       " o    7\n",
       " u    2\n",
       " dtype: int64,\n",
       " a    20\n",
       " e    50\n",
       " i    60\n",
       " o    30\n",
       " u    80\n",
       " dtype: int64,\n",
       " a    5.000000\n",
       " e    2.000000\n",
       " i    1.666667\n",
       " o    3.333333\n",
       " u    1.250000\n",
       " dtype: float64)"
      ]
     },
     "execution_count": 51,
     "metadata": {},
     "output_type": "execute_result"
    }
   ],
   "source": [
    "# e) Subtract, Multiply and Divide Vowels by Vowels1.\n",
    "\n",
    "subtracted = Vowels - Vowels1\n",
    "multiplied = Vowels * Vowels1\n",
    "divided = Vowels / Vowels1\n",
    "\n",
    "subtracted, multiplied, divided"
   ]
  },
  {
   "cell_type": "code",
   "execution_count": 52,
   "metadata": {},
   "outputs": [
    {
     "data": {
      "text/plain": [
       "A    2\n",
       "E    5\n",
       "I    6\n",
       "O    3\n",
       "U    8\n",
       "dtype: int64"
      ]
     },
     "execution_count": 52,
     "metadata": {},
     "output_type": "execute_result"
    }
   ],
   "source": [
    "# f) Alter the labels of Vowels1 to [‘A’, ‘E’, ‘I’, ‘O’, ‘U’].\n",
    "\n",
    "Vowels1.index = ['A', 'E', 'I', 'O', 'U']\n",
    "Vowels1\n"
   ]
  },
  {
   "cell_type": "code",
   "execution_count": 53,
   "metadata": {},
   "outputs": [
    {
     "data": {
      "text/plain": [
       "(array(['a', 'b', 'c', 'd', 'e', 'f', 'g', 'h', 'i', 'j', 'k', 'l', 'm',\n",
       "        'n', 'o', 'p', 'q', 'r', 's', 't', 'u', 'v', 'w', 'x', 'y', 'z'],\n",
       "       dtype=object),\n",
       " array([10, 10, 10, 10, 10]),\n",
       " array([1, 2, 3, 4, 5]),\n",
       " array([], dtype=float64),\n",
       " array([31, 28, 31, 30, 31, 30, 31, 31, 30, 31, 30, 31]))"
      ]
     },
     "execution_count": 53,
     "metadata": {},
     "output_type": "execute_result"
    }
   ],
   "source": [
    "# 3.Using the Series created in Ex. 1 , write commands for the following:\n",
    "# a) Find the dimensions, size and values of the Series EngAlph, Vowels, Friends, MTseries, MonthDays.\n",
    "\n",
    "ndimAll = EngAlph.ndim, Vowels.ndim, Friends.ndim, MTseries.ndim, MonthDays.ndim\n",
    "sizeAll = EngAlph.size, Vowels.size, Friends.size, MTseries.size, MonthDays.size\n",
    "valuesAll = EngAlph.values, Vowels.values, Friends.values, MTseries.values, MonthDays.values\n",
    "\n",
    "ndimAll\n",
    "sizeAll\n",
    "valuesAll\n"
   ]
  },
  {
   "cell_type": "code",
   "execution_count": 54,
   "metadata": {},
   "outputs": [
    {
     "data": {
      "text/plain": [
       "'SeriesEmpty'"
      ]
     },
     "execution_count": 54,
     "metadata": {},
     "output_type": "execute_result"
    }
   ],
   "source": [
    "# b) Rename the Series MTseries as SeriesEmpty.\n",
    "\n",
    "SeriesEmpty = MTseries.rename(\"SeriesEmpty\")\n",
    "\n",
    "SeriesEmpty.name  # Проверка нового имени серии"
   ]
  },
  {
   "cell_type": "code",
   "execution_count": 55,
   "metadata": {},
   "outputs": [
    {
     "data": {
      "text/plain": [
       "('monthno', 'Fname')"
      ]
     },
     "execution_count": 55,
     "metadata": {},
     "output_type": "execute_result"
    }
   ],
   "source": [
    "# c) Name the index of the Series MonthDays as monthno and that of Series Friends as Fname.\n",
    "MonthDays.index.name = 'monthno'\n",
    "Friends.index.name = 'Fname'\n",
    "\n",
    "MonthDays.index.name, Friends.index.name"
   ]
  },
  {
   "cell_type": "code",
   "execution_count": 56,
   "metadata": {},
   "outputs": [
    {
     "data": {
      "text/plain": [
       "Fname\n",
       "Lebron     3\n",
       "Stephen    2\n",
       "dtype: int64"
      ]
     },
     "execution_count": 56,
     "metadata": {},
     "output_type": "execute_result"
    }
   ],
   "source": [
    "third_and_second_value = Friends.iloc[[2, 1]]\n",
    "\n",
    "third_and_second_value"
   ]
  },
  {
   "cell_type": "code",
   "execution_count": 57,
   "metadata": {},
   "outputs": [
    {
     "data": {
      "text/plain": [
       "4     e\n",
       "5     f\n",
       "6     g\n",
       "7     h\n",
       "8     i\n",
       "9     j\n",
       "10    k\n",
       "11    l\n",
       "12    m\n",
       "13    n\n",
       "14    o\n",
       "15    p\n",
       "dtype: object"
      ]
     },
     "execution_count": 57,
     "metadata": {},
     "output_type": "execute_result"
    }
   ],
   "source": [
    "# e) Display the alphabets ‘e’ to ‘p’ from the Series EngAlph.\n",
    "\n",
    "alphabets_e_to_p = EngAlph[4:16]  # Индексы от 'e'(4) до 'p'(15)\n",
    "\n",
    "alphabets_e_to_p"
   ]
  },
  {
   "cell_type": "code",
   "execution_count": 58,
   "metadata": {},
   "outputs": [
    {
     "data": {
      "text/plain": [
       "0    a\n",
       "1    b\n",
       "2    c\n",
       "3    d\n",
       "4    e\n",
       "5    f\n",
       "6    g\n",
       "7    h\n",
       "8    i\n",
       "9    j\n",
       "dtype: object"
      ]
     },
     "execution_count": 58,
     "metadata": {},
     "output_type": "execute_result"
    }
   ],
   "source": [
    "# f) Display the first 10 values in the Series EngAlph.\n",
    "\n",
    "first_10_values = EngAlph[:10]\n",
    "\n",
    "first_10_values"
   ]
  },
  {
   "cell_type": "code",
   "execution_count": 59,
   "metadata": {},
   "outputs": [
    {
     "data": {
      "text/plain": [
       "16    q\n",
       "17    r\n",
       "18    s\n",
       "19    t\n",
       "20    u\n",
       "21    v\n",
       "22    w\n",
       "23    x\n",
       "24    y\n",
       "25    z\n",
       "dtype: object"
      ]
     },
     "execution_count": 59,
     "metadata": {},
     "output_type": "execute_result"
    }
   ],
   "source": [
    "# g) Display the last 10 values in the Series EngAlph. \n",
    "\n",
    "EngAlph.tail(10)"
   ]
  },
  {
   "cell_type": "code",
   "execution_count": 60,
   "metadata": {},
   "outputs": [
    {
     "data": {
      "text/plain": [
       "Series([], dtype: float64)"
      ]
     },
     "execution_count": 60,
     "metadata": {},
     "output_type": "execute_result"
    }
   ],
   "source": [
    "# h) Display the MTseries.\n",
    "\n",
    "MTseries"
   ]
  },
  {
   "cell_type": "code",
   "execution_count": null,
   "metadata": {},
   "outputs": [],
   "source": []
  },
  {
   "cell_type": "code",
   "execution_count": null,
   "metadata": {},
   "outputs": [],
   "source": []
  }
 ],
 "metadata": {
  "kernelspec": {
   "display_name": "Python 3 (ipykernel)",
   "language": "python",
   "name": "python3"
  },
  "language_info": {
   "codemirror_mode": {
    "name": "ipython",
    "version": 3
   },
   "file_extension": ".py",
   "mimetype": "text/x-python",
   "name": "python",
   "nbconvert_exporter": "python",
   "pygments_lexer": "ipython3",
   "version": "3.11.5"
  }
 },
 "nbformat": 4,
 "nbformat_minor": 4
}
