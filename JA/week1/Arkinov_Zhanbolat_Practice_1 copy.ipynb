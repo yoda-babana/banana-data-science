{
 "cells": [
  {
   "cell_type": "code",
   "execution_count": 1,
   "id": "652458db-c96a-4765-8796-d138c31d577b",
   "metadata": {},
   "outputs": [
    {
     "data": {
      "text/plain": [
       "array([[ 4,  8, 12, 16, 20],\n",
       "       [24, 28, 32, 36, 40],\n",
       "       [44, 48, 52, 56, 60]])"
      ]
     },
     "execution_count": 1,
     "metadata": {},
     "output_type": "execute_result"
    }
   ],
   "source": [
    "# 1. Create the following NumPy arrays:\n",
    "# a) A 1-D array called zeros having 10 elements and all the elements are set to zero.\n",
    "# b) A 1-D array called vowels having the elements ‘a’, ‘e’, ‘i’, ‘o’ and ‘u’.\n",
    "# c) A 2-D array called ones having 2 rows and 5 columns and all the elements are set to 1 and dtype as int.\n",
    "# d) Use nested Python lists to create a 2-D array called myarray1 having 3 rows and 3 columns and store the following data:\n",
    "#      2.7, -2, -19\n",
    "#      0, 3.4, 99.9\n",
    "#      10.6, 0, 13\n",
    "# e) A 2-D array called myarray2 using arange() having 3 rows and 5 columns with start value = 4, step size 4 and dtype as float.\n",
    "\n",
    "\n",
    "# for first task \n",
    "import numpy as np \n",
    "zeros= np.zeros(10)\n",
    "vowels = np.array(['a','e','i','o','u'])\n",
    "ones = np.ones((2,5),dtype =int)\n",
    "myarray1 = np.array([[2.7, -2, -19],[0, 3.4, 99.9],[10.6, 0, 13]])\n",
    "myarray2 = np.arange(4,61,4).reshape(3,5)\n",
    "myarray2\n",
    "\n",
    "\n",
    "\n",
    "# 2. Using the arrays created in Exercise 1 above, write NumPy commands for the following:¶\n",
    "# b) Reshape the array ones to have all the 10 elements in a single row.\n",
    "# c) Display the 2nd and 3rd element of the array vowels.\n",
    "# d) Display all elements in the 2nd and 3rd row of the array myarray1.\n",
    "# e) Display the elements in the 1st and 2nd column of the array myarray1.\n",
    "# f) Display the elements in the 1st column of the 2nd and 3rd row of the array myarray1.\n",
    "# g) Reverse the array of vowels\n"
   ]
  },
  {
   "cell_type": "code",
   "execution_count": 17,
   "id": "7908544f-4c62-439a-b36b-bbe4e0f06dba",
   "metadata": {},
   "outputs": [
    {
     "data": {
      "text/plain": [
       "((1, 1, 2, 2, 2),\n",
       " (dtype('float64'),\n",
       "  dtype('<U1'),\n",
       "  dtype('int64'),\n",
       "  dtype('float64'),\n",
       "  dtype('int64')),\n",
       " (10, 5, 10, 9, 15),\n",
       " ((10,), (5,), (2, 5), (3, 3), (3, 5)),\n",
       " (8, 4, 8, 8, 8))"
      ]
     },
     "execution_count": 17,
     "metadata": {},
     "output_type": "execute_result"
    }
   ],
   "source": [
    "# a) Find the dimensions, shape, size, data type of the items and itemsize of arrays zeros , vowels , ones , myarray1 and\n",
    "# myarray2.\n",
    "ndim = zeros.ndim, vowels.ndim, ones.ndim, myarray1.ndim, myarray2.ndim\n",
    "shape = zeros.shape, vowels.shape, ones.shape, myarray1.shape, myarray2.shape\n",
    "size = zeros.size, vowels.size, ones.size, myarray1.size, myarray2.size\n",
    "dtype = zeros.dtype, vowels.dtype, ones.dtype, myarray1.dtype, myarray2.dtype\n",
    "itemsize = zeros.itemsize, vowels.itemsize, ones.itemsize, myarray1.itemsize, myarray2.itemsize\n",
    "\n",
    "# вывод \n",
    "ndim, dtype, size, shape, itemsize"
   ]
  },
  {
   "cell_type": "code",
   "execution_count": 80,
   "id": "5d90bbd5-bb10-4a1f-b4cb-43b5f2854f42",
   "metadata": {},
   "outputs": [
    {
     "data": {
      "text/plain": [
       "array([[1, 1, 1, 1, 1, 1, 1, 1, 1, 1]])"
      ]
     },
     "execution_count": 80,
     "metadata": {},
     "output_type": "execute_result"
    }
   ],
   "source": [
    "# b) Reshape the array ones to have all the 10 elements in a single row.\n",
    "\n",
    "# ones = \n",
    "# array([[1, 1, 1, 1, 1],\n",
    "#        [1, 1, 1, 1, 1]])\n",
    "\n",
    "ones.reshape(1, -1)"
   ]
  },
  {
   "cell_type": "code",
   "execution_count": 20,
   "id": "e291ce5f-8792-4603-8d11-323488672435",
   "metadata": {},
   "outputs": [
    {
     "data": {
      "text/plain": [
       "array(['e', 'i'], dtype='<U1')"
      ]
     },
     "execution_count": 20,
     "metadata": {},
     "output_type": "execute_result"
    }
   ],
   "source": [
    "# c) Display the 2nd and 3rd element of the array vowels.\n",
    "vowels[1:3]\n",
    "# второй и третий элемент "
   ]
  },
  {
   "cell_type": "code",
   "execution_count": 23,
   "id": "16d027a1-4d0e-458a-b574-6a4457e72706",
   "metadata": {},
   "outputs": [
    {
     "data": {
      "text/plain": [
       "array([[ 0. ,  3.4, 99.9],\n",
       "       [10.6,  0. , 13. ]])"
      ]
     },
     "execution_count": 23,
     "metadata": {},
     "output_type": "execute_result"
    }
   ],
   "source": [
    "# d) Display all elements in the 2nd and 3rd row of the array myarray1.\n",
    "rows_two_and_three = myarray1[1:3, :]\n",
    "rows_two_and_three\n"
   ]
  },
  {
   "cell_type": "code",
   "execution_count": 29,
   "id": "00dd28c3-f2fb-4f6e-961a-2085e587294c",
   "metadata": {},
   "outputs": [
    {
     "data": {
      "text/plain": [
       "array([[ 2.7, -2. ],\n",
       "       [ 0. ,  3.4],\n",
       "       [10.6,  0. ]])"
      ]
     },
     "execution_count": 29,
     "metadata": {},
     "output_type": "execute_result"
    }
   ],
   "source": [
    "# e) Display the elements in the 1st and 2nd column of the array myarray1.\n",
    "column_one_and_two = myarray1[:, 0:2]\n",
    "column_one_and_two "
   ]
  },
  {
   "cell_type": "code",
   "execution_count": 50,
   "id": "a36ddf7d-80af-4225-b114-0ba7e62f9feb",
   "metadata": {},
   "outputs": [
    {
     "data": {
      "text/plain": [
       "array([ 0. , 10.6])"
      ]
     },
     "execution_count": 50,
     "metadata": {},
     "output_type": "execute_result"
    }
   ],
   "source": [
    "# f) Display the elements in the 1st column of the 2nd and 3rd row of the array myarray1.\n",
    "myarray1[1:3, 0]"
   ]
  },
  {
   "cell_type": "code",
   "execution_count": 81,
   "id": "53508d64-5bb1-4fce-8966-d116f63f66ab",
   "metadata": {},
   "outputs": [
    {
     "data": {
      "text/plain": [
       "array(['u', 'o', 'i', 'e', 'a'], dtype='<U1')"
      ]
     },
     "execution_count": 81,
     "metadata": {},
     "output_type": "execute_result"
    }
   ],
   "source": [
    "# g) Reverse the array of vowels\n",
    "np.flip(vowels)\n",
    "\n",
    "# or this way \n",
    "vowels[ : : -1]"
   ]
  },
  {
   "cell_type": "code",
   "execution_count": null,
   "id": "0d8d7ee6-6542-4057-8d22-b9009b3db72a",
   "metadata": {},
   "outputs": [],
   "source": []
  }
 ],
 "metadata": {
  "kernelspec": {
   "display_name": "Python 3 (ipykernel)",
   "language": "python",
   "name": "python3"
  },
  "language_info": {
   "codemirror_mode": {
    "name": "ipython",
    "version": 3
   },
   "file_extension": ".py",
   "mimetype": "text/x-python",
   "name": "python",
   "nbconvert_exporter": "python",
   "pygments_lexer": "ipython3",
   "version": "3.11.7"
  }
 },
 "nbformat": 4,
 "nbformat_minor": 5
}
