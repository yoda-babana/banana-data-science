{
 "cells": [
  {
   "cell_type": "code",
   "execution_count": 2,
   "id": "ae7f917a-655b-49a8-9d0d-b0552ca629db",
   "metadata": {},
   "outputs": [],
   "source": [
    "import numpy as np"
   ]
  },
  {
   "cell_type": "code",
   "execution_count": 26,
   "id": "2588135a-e470-4667-8976-7ffab577b3ec",
   "metadata": {},
   "outputs": [
    {
     "data": {
      "text/plain": [
       "array([[ 4,  8, 12, 16, 20],\n",
       "       [24, 28, 32, 36, 40],\n",
       "       [44, 48, 52, 56, 60]])"
      ]
     },
     "execution_count": 26,
     "metadata": {},
     "output_type": "execute_result"
    }
   ],
   "source": [
    "import numpy as np \n",
    "zeros= np.zeros(10)\n",
    "vowels = np.array(['a','e','i','o','u'])\n",
    "ones = np.ones((2,5),dtype =int)\n",
    "myarray1 = np.array([[2.7, -2, -19],[0, 3.4, 99.9],[10.6, 0, 13]])\n",
    "myarray2 = np.arange(4,61,4).reshape(3,5)\n",
    "myarray2"
   ]
  },
  {
   "cell_type": "code",
   "execution_count": 4,
   "id": "a88b9840-d052-4b2b-887b-6d06c5b40293",
   "metadata": {},
   "outputs": [
    {
     "data": {
      "text/plain": [
       "array([[0.33333333, 0.33333333, 0.33333333],\n",
       "       [0.33333333, 0.33333333, 0.33333333],\n",
       "       [0.33333333, 0.33333333, 0.33333333]])"
      ]
     },
     "execution_count": 4,
     "metadata": {},
     "output_type": "execute_result"
    }
   ],
   "source": [
    "# a) Divide all elements of array ones by 3.\n",
    "np.ones_like(myarray1) / 3"
   ]
  },
  {
   "cell_type": "code",
   "execution_count": 5,
   "id": "bf0d2690-6139-49ea-a4d0-6a2359166dbb",
   "metadata": {},
   "outputs": [
    {
     "data": {
      "text/plain": [
       "array([[[  6.7,   6. ,  -7. ,  16. ,  20. ],\n",
       "        [ 24. ,  31.4, 131.9,  36. ,  40. ],\n",
       "        [ 54.6,  48. ,  65. ,  56. ,  60. ]]])"
      ]
     },
     "execution_count": 5,
     "metadata": {},
     "output_type": "execute_result"
    }
   ],
   "source": [
    "# b) Add the arrays myarray1 and myarray2.\n",
    "# добавил к myarray1 столбцы, чтобы соответствовать форме myarray2\n",
    "padded_myarray1 = np.pad(myarray1, ((0, 0), (0, 2)), 'constant'),\n",
    "\n",
    "result = padded_myarray1 + myarray2\n",
    "result"
   ]
  },
  {
   "cell_type": "code",
   "execution_count": 28,
   "id": "be5de99b-e167-4a4a-b881-2990de39f876",
   "metadata": {},
   "outputs": [
    {
     "data": {
      "text/plain": [
       "array([[[  1.3,  10. ,  31. ,  16. ,  20. ],\n",
       "        [ 24. ,  24.6, -67.9,  36. ,  40. ],\n",
       "        [ 33.4,  48. ,  39. ,  56. ,  60. ]]])"
      ]
     },
     "execution_count": 28,
     "metadata": {},
     "output_type": "execute_result"
    }
   ],
   "source": [
    "# padded_myarray1 = np.pad(myarray1, ((0, 0), (0, 2)), 'constant')\n",
    "\n",
    "# c) Subtract myarray1 from myarray2 and store the result in a new array.\n",
    "\n",
    "# myarray1 = \n",
    "# array([[  2.7,  -2. , -19. ],\n",
    "#        [  0. ,   3.4,  99.9],\n",
    "#        [ 10.6,   0. ,  13. ]])\n",
    "\n",
    "# myarray2 =\n",
    "# array([[ 4,  8, 12, 16, 20],\n",
    "#        [24, 28, 32, 36, 40],\n",
    "#        [44, 48, 52, 56, 60]])\n",
    "\n",
    "# 4 - 2.7 = 1.3 \n",
    "\n",
    "subtracted_array = myarray2 - padded_myarray1\n",
    "subtracted_array"
   ]
  },
  {
   "cell_type": "code",
   "execution_count": 7,
   "id": "b9ede25a-6c41-4021-b211-bb502aeacd18",
   "metadata": {},
   "outputs": [
    {
     "data": {
      "text/plain": [
       "array([[[  10.8,  -16. , -228. ,    0. ,    0. ],\n",
       "        [   0. ,   95.2, 3196.8,    0. ,    0. ],\n",
       "        [ 466.4,    0. ,  676. ,    0. ,    0. ]]])"
      ]
     },
     "execution_count": 7,
     "metadata": {},
     "output_type": "execute_result"
    }
   ],
   "source": [
    "# padded_myarray1 = np.pad(result2, ((0, 0), (0, 2)), 'constant')\n",
    "\n",
    "#d) Multiply myarray1 and myarray2 elementwise.\n",
    "\n",
    "result3 = padded_myarray1 * myarray2\n",
    "result3"
   ]
  },
  {
   "cell_type": "code",
   "execution_count": 25,
   "id": "63317dc1-1f86-4a32-9113-1e94faa0f694",
   "metadata": {},
   "outputs": [
    {
     "data": {
      "text/plain": [
       "array([[ -873.2,  -946.4, -1019.6, -1092.8, -1166. ],\n",
       "       [ 4477.2,  4890.4,  5303.6,  5716.8,  6130. ],\n",
       "       [  614.4,   708.8,   803.2,   897.6,   992. ]])"
      ]
     },
     "execution_count": 25,
     "metadata": {},
     "output_type": "execute_result"
    }
   ],
   "source": [
    "# e) Do the matrix multiplication of myarray1 and myarray2 and store the result in a new array myarray3.\n",
    "# first method \n",
    "myarray3 = np.dot(myarray1, myarray2)\n",
    "myarray3\n",
    "\n",
    "# second method\n",
    "myarray1 @ myarray2"
   ]
  },
  {
   "cell_type": "code",
   "execution_count": 9,
   "id": "3d6d4a2f-2965-493f-a85f-e4d9ea3d2a86",
   "metadata": {},
   "outputs": [
    {
     "data": {
      "text/plain": [
       "array([[[ 0.675     , -0.25      , -1.58333333,  0.        ,\n",
       "          0.        ],\n",
       "        [ 0.        ,  0.12142857,  3.121875  ,  0.        ,\n",
       "          0.        ],\n",
       "        [ 0.24090909,  0.        ,  0.25      ,  0.        ,\n",
       "          0.        ]]])"
      ]
     },
     "execution_count": 9,
     "metadata": {},
     "output_type": "execute_result"
    }
   ],
   "source": [
    "# padded_myarray1 = np.pad(myarray1, ((0, 0), (0, 2)), 'constant')\n",
    "\n",
    "# f) Divide myarray1 by myarray2.\n",
    "\n",
    "padded_myarray1 / myarray2\n"
   ]
  },
  {
   "cell_type": "code",
   "execution_count": 10,
   "id": "ffd11b64-3dea-485d-943c-b25c782e3cb1",
   "metadata": {},
   "outputs": [
    {
     "data": {
      "text/plain": [
       "array([[ 9.841500e+00, -4.000000e+00, -3.429500e+03],\n",
       "       [ 0.000000e+00,  1.965200e+01,  4.985015e+05],\n",
       "       [ 5.955080e+02,  0.000000e+00,  1.098500e+03]])"
      ]
     },
     "execution_count": 10,
     "metadata": {},
     "output_type": "execute_result"
    }
   ],
   "source": [
    "# g) Find the cube of all elements of myarray1 and divide the resulting array by 2.\n",
    "myarray1 ** 3 / 2"
   ]
  },
  {
   "cell_type": "code",
   "execution_count": 11,
   "id": "f5f4753b-1e85-4cd7-8a18-48ddb0272cdf",
   "metadata": {},
   "outputs": [
    {
     "data": {
      "text/plain": [
       "array([[1.  , 1.41, 1.73, 2.  , 2.24],\n",
       "       [2.45, 2.65, 2.83, 3.  , 3.16],\n",
       "       [3.32, 3.46, 3.61, 3.74, 3.87]])"
      ]
     },
     "execution_count": 11,
     "metadata": {},
     "output_type": "execute_result"
    }
   ],
   "source": [
    "# h) Find the square root of all elements of myarray2 and divide the resulting array by 2. \n",
    "# The result should be rounded to two places of decimals.\n",
    "np.around(myarray2 ** (1/2) / 2, 2)"
   ]
  },
  {
   "cell_type": "code",
   "execution_count": 13,
   "id": "4598d7f0-8144-4f30-bc35-44ff10df73e1",
   "metadata": {},
   "outputs": [
    {
     "data": {
      "text/plain": [
       "[array([[-1.  , -0.75, -0.5 ],\n",
       "        [-0.25,  0.  ,  0.25],\n",
       "        [ 0.5 ,  0.75,  1.  ],\n",
       "        [ 1.25,  1.5 ,  1.75],\n",
       "        [ 2.  ,  2.25,  2.5 ]]),\n",
       " array([[2.75, 3.  , 3.25],\n",
       "        [3.5 , 3.75, 4.  ],\n",
       "        [4.25, 4.5 , 4.75],\n",
       "        [5.  , 5.25, 5.5 ],\n",
       "        [5.75, 6.  , 6.25]]),\n",
       " array([[6.5 , 6.75, 7.  ],\n",
       "        [7.25, 7.5 , 7.75],\n",
       "        [8.  , 8.25, 8.5 ],\n",
       "        [8.75, 9.  , 9.25]])]"
      ]
     },
     "execution_count": 13,
     "metadata": {},
     "output_type": "execute_result"
    }
   ],
   "source": [
    "myarray4 = np.arange(-1, -1 + 0.25 * (14 * 3), 0.25)\n",
    "myarray4 = myarray4.reshape(14, 3)\n",
    "\n",
    "split_arrays = np.array_split(myarray4, 3, axis = 0)\n",
    "split_arrays"
   ]
  },
  {
   "cell_type": "code",
   "execution_count": 15,
   "id": "9376de2d-c3db-4538-a9aa-4d246336e924",
   "metadata": {},
   "outputs": [
    {
     "data": {
      "text/plain": [
       "173.25"
      ]
     },
     "execution_count": 15,
     "metadata": {},
     "output_type": "execute_result"
    }
   ],
   "source": [
    "# a) Find the sum of all elements.\n",
    "sum = np.sum(myarray4)\n",
    "sum"
   ]
  },
  {
   "cell_type": "code",
   "execution_count": 18,
   "id": "1e1a3d03-04e3-4774-bdac-b3770b2b8368",
   "metadata": {},
   "outputs": [
    {
     "data": {
      "text/plain": [
       "array([-2.25,  0.  ,  2.25,  4.5 ,  6.75,  9.  , 11.25, 13.5 , 15.75,\n",
       "       18.  , 20.25, 22.5 , 24.75, 27.  ])"
      ]
     },
     "execution_count": 18,
     "metadata": {},
     "output_type": "execute_result"
    }
   ],
   "source": [
    "# b) Find the sum of all elements row wise.\n",
    "sum_rows = np.sum(myarray4, axis = 1)\n",
    "sum_rows\n",
    "# сумма элементов в каждой строке то есть \n",
    "# первая строка -1 -0.75 -0.5 = -2.25 и так далее"
   ]
  },
  {
   "cell_type": "code",
   "execution_count": 19,
   "id": "be8e039a-53d1-41da-a98b-c5c09de88e56",
   "metadata": {},
   "outputs": [
    {
     "data": {
      "text/plain": [
       "array([54.25, 57.75, 61.25])"
      ]
     },
     "execution_count": 19,
     "metadata": {},
     "output_type": "execute_result"
    }
   ],
   "source": [
    "# c) Find the sum of all elements column wise. Notes\n",
    "sum_column = np.sum(myarray4, axis = 0) \n",
    "sum_column "
   ]
  },
  {
   "cell_type": "code",
   "execution_count": 20,
   "id": "238c6361-8055-4fc6-925a-3b70aaa8c01e",
   "metadata": {},
   "outputs": [
    {
     "data": {
      "text/plain": [
       "9.25"
      ]
     },
     "execution_count": 20,
     "metadata": {},
     "output_type": "execute_result"
    }
   ],
   "source": [
    "# d) Find the max of all elements.\n",
    "max_element = np.max(myarray4)\n",
    "max_element"
   ]
  },
  {
   "cell_type": "code",
   "execution_count": 21,
   "id": "1ac31c9b-4e16-4ca7-84f4-fffb83b07b7f",
   "metadata": {},
   "outputs": [
    {
     "data": {
      "text/plain": [
       "array([-1.  , -0.25,  0.5 ,  1.25,  2.  ,  2.75,  3.5 ,  4.25,  5.  ,\n",
       "        5.75,  6.5 ,  7.25,  8.  ,  8.75])"
      ]
     },
     "execution_count": 21,
     "metadata": {},
     "output_type": "execute_result"
    }
   ],
   "source": [
    "# e) Find the min of all elements in each row.\n",
    "min_element = np.min(myarray4, axis = 1)\n",
    "min_element"
   ]
  },
  {
   "cell_type": "code",
   "execution_count": 23,
   "id": "23b8276c-ecb6-4fb8-b52d-306de79e7a1e",
   "metadata": {},
   "outputs": [
    {
     "data": {
      "text/plain": [
       "array([-0.75,  0.  ,  0.75,  1.5 ,  2.25,  3.  ,  3.75,  4.5 ,  5.25,\n",
       "        6.  ,  6.75,  7.5 ,  8.25,  9.  ])"
      ]
     },
     "execution_count": 23,
     "metadata": {},
     "output_type": "execute_result"
    }
   ],
   "source": [
    "# f) Find the mean of all elements in each row.\n",
    "average_mean = np.mean(myarray4, axis = 1)\n",
    "average\n"
   ]
  },
  {
   "cell_type": "code",
   "execution_count": 24,
   "id": "c509a57b-ac66-4b8a-a7c8-d8d1e6a27073",
   "metadata": {},
   "outputs": [
    {
     "data": {
      "text/plain": [
       "array([3.02334666, 3.02334666, 3.02334666])"
      ]
     },
     "execution_count": 24,
     "metadata": {},
     "output_type": "execute_result"
    }
   ],
   "source": [
    "# g) Find the standard deviation column wise.\n",
    "standard_deviation_column = np.std(myarray4, axis = 0)\n",
    "standard_deviation_column"
   ]
  },
  {
   "cell_type": "code",
   "execution_count": null,
   "id": "3ccae21b-ef83-4503-8454-f0683d263347",
   "metadata": {},
   "outputs": [],
   "source": []
  },
  {
   "cell_type": "code",
   "execution_count": null,
   "id": "97717259-3434-404d-ac98-a89fd898b853",
   "metadata": {},
   "outputs": [],
   "source": []
  }
 ],
 "metadata": {
  "kernelspec": {
   "display_name": "Python 3 (ipykernel)",
   "language": "python",
   "name": "python3"
  },
  "language_info": {
   "codemirror_mode": {
    "name": "ipython",
    "version": 3
   },
   "file_extension": ".py",
   "mimetype": "text/x-python",
   "name": "python",
   "nbconvert_exporter": "python",
   "pygments_lexer": "ipython3",
   "version": "3.11.7"
  }
 },
 "nbformat": 4,
 "nbformat_minor": 5
}
